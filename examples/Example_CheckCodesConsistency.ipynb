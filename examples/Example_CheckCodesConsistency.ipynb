{
 "cells": [
  {
   "cell_type": "markdown",
   "id": "8c48ff80-9ece-4ca1-903c-e936028514b0",
   "metadata": {},
   "source": [
    "# How to check the consistency between two code sets\n",
    "This notebook demonstrates how to use the emocodes library to examine how similar two sets of codes are. \n",
    "\n",
    "**Note**: the files used in this notebook have already been validated and processed (converted to timeseries format)."
   ]
  },
  {
   "cell_type": "markdown",
   "id": "97d3777b-735e-438a-9711-6ad8c0f0affb",
   "metadata": {},
   "source": [
    "## Use Case: Check consistency between two coders and combine to create codes set for analysis"
   ]
  },
  {
   "cell_type": "code",
   "execution_count": 1,
   "id": "38180ec8-bcc8-4cba-a1bd-8303a0e87bae",
   "metadata": {},
   "outputs": [
    {
     "name": "stderr",
     "output_type": "stream",
     "text": [
      "/Users/catcamacho/Library/Python/3.8/lib/python/site-packages/outdated/utils.py:14: OutdatedPackageWarning: The package pingouin is out of date. Your version is 0.4.0, the latest is 0.5.0.\n",
      "Set the environment variable OUTDATED_IGNORE=1 to disable these warnings.\n",
      "  return warn(\n"
     ]
    }
   ],
   "source": [
    "import emocodes as ec\n",
    "import pandas as pd\n",
    "\n",
    "coder1 = '/Users/catcamacho/Box/CCP/EmoCodes_project/reliability_data/processed/AHKJ_S1E2/subjective_character_Clover_timeseries_DB_20210705-163848.csv'\n",
    "coder2 = '/Users/catcamacho/Box/CCP/EmoCodes_project/reliability_data/processed/AHKJ_S1E2/subjective_character_Clover_timeseries_RK_20210705-163849.csv'\n",
    "\n",
    "# read the csvs\n",
    "coder1_df = pd.read_csv(coder1, index_col=0)\n",
    "coder2_df = pd.read_csv(coder2, index_col=0)\n",
    "\n",
    "# run the consensus class\n",
    "results = ec.Consensus().interrater_consensus([coder1_df, coder2_df], ['DB', 'RK'])"
   ]
  },
  {
   "cell_type": "code",
   "execution_count": 2,
   "id": "300bbb02-82eb-46f4-a4a0-4852cde2300e",
   "metadata": {},
   "outputs": [
    {
     "data": {
      "text/html": [
       "<div>\n",
       "<style scoped>\n",
       "    .dataframe tbody tr th:only-of-type {\n",
       "        vertical-align: middle;\n",
       "    }\n",
       "\n",
       "    .dataframe tbody tr th {\n",
       "        vertical-align: top;\n",
       "    }\n",
       "\n",
       "    .dataframe thead th {\n",
       "        text-align: right;\n",
       "    }\n",
       "</style>\n",
       "<table border=\"1\" class=\"dataframe\">\n",
       "  <thead>\n",
       "    <tr style=\"text-align: right;\">\n",
       "      <th></th>\n",
       "      <th>RatingsA</th>\n",
       "      <th>RatingsB</th>\n",
       "      <th>ColumnVariable</th>\n",
       "      <th>PercentOverlap</th>\n",
       "    </tr>\n",
       "  </thead>\n",
       "  <tbody>\n",
       "    <tr>\n",
       "      <th>0_0</th>\n",
       "      <td>DB</td>\n",
       "      <td>RK</td>\n",
       "      <td>char_intensity</td>\n",
       "      <td>88.897546</td>\n",
       "    </tr>\n",
       "    <tr>\n",
       "      <th>0_1</th>\n",
       "      <td>DB</td>\n",
       "      <td>RK</td>\n",
       "      <td>char_valence_negative</td>\n",
       "      <td>70.440203</td>\n",
       "    </tr>\n",
       "    <tr>\n",
       "      <th>0_2</th>\n",
       "      <td>DB</td>\n",
       "      <td>RK</td>\n",
       "      <td>char_valence_positive</td>\n",
       "      <td>87.245812</td>\n",
       "    </tr>\n",
       "    <tr>\n",
       "      <th>0_3</th>\n",
       "      <td>DB</td>\n",
       "      <td>RK</td>\n",
       "      <td>on_screen</td>\n",
       "      <td>98.441761</td>\n",
       "    </tr>\n",
       "  </tbody>\n",
       "</table>\n",
       "</div>"
      ],
      "text/plain": [
       "    RatingsA RatingsB         ColumnVariable PercentOverlap\n",
       "0_0       DB       RK         char_intensity      88.897546\n",
       "0_1       DB       RK  char_valence_negative      70.440203\n",
       "0_2       DB       RK  char_valence_positive      87.245812\n",
       "0_3       DB       RK              on_screen      98.441761"
      ]
     },
     "execution_count": 2,
     "metadata": {},
     "output_type": "execute_result"
    }
   ],
   "source": [
    "results.consensus_scores"
   ]
  },
  {
   "cell_type": "code",
   "execution_count": 3,
   "id": "e352a81f-ceb9-40e3-a31d-c42221d76fe4",
   "metadata": {},
   "outputs": [],
   "source": [
    "results.mismatch_segments.to_csv('RK_DB_mismatch_report.csv')"
   ]
  },
  {
   "cell_type": "markdown",
   "id": "a1a5ab53-a6f3-4ce8-9ffb-7b046e0b9bd0",
   "metadata": {},
   "source": [
    "If we are happy with the overlap, we can average them to create one final version:"
   ]
  },
  {
   "cell_type": "code",
   "execution_count": 4,
   "id": "285eed81-a0ac-46d3-bef7-cbc86bf9c817",
   "metadata": {},
   "outputs": [],
   "source": [
    "combined_codes = pd.concat([coder1_df, coder2_df])\n",
    "averaged_codes = combined_codes.groupby('time').mean()\n",
    "averaged_codes.to_csv('final_codes.csv')"
   ]
  }
 ],
 "metadata": {
  "kernelspec": {
   "display_name": "Python 3 (ipykernel)",
   "language": "python",
   "name": "python3"
  },
  "language_info": {
   "codemirror_mode": {
    "name": "ipython",
    "version": 3
   },
   "file_extension": ".py",
   "mimetype": "text/x-python",
   "name": "python",
   "nbconvert_exporter": "python",
   "pygments_lexer": "ipython3",
   "version": "3.8.9"
  }
 },
 "nbformat": 4,
 "nbformat_minor": 5
}
