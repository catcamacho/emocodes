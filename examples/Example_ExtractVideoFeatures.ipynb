{
 "cells": [
  {
   "cell_type": "markdown",
   "id": "ec65da32-a3d7-4dd1-8758-a614dcdf631b",
   "metadata": {
    "tags": []
   },
   "source": [
    "# How to Extract Low-Level Video Features using the EmoCodes Library\n",
    "This notebook provides a step-by-step guide on how to automatically extract low-level video features from a video file. \n",
    "\n",
    "**Note**: This processing will take longer for larger video files."
   ]
  },
  {
   "cell_type": "code",
   "execution_count": 1,
   "id": "a069dcbb-c424-4bba-a03c-fa2ac9743f0e",
   "metadata": {},
   "outputs": [
    {
     "name": "stderr",
     "output_type": "stream",
     "text": [
      "/Users/catcamacho/Library/Python/3.8/lib/python/site-packages/outdated/utils.py:14: OutdatedPackageWarning: The package pingouin is out of date. Your version is 0.4.0, the latest is 0.5.0.\n",
      "Set the environment variable OUTDATED_IGNORE=1 to disable these warnings.\n",
      "  return warn(\n"
     ]
    },
    {
     "name": "stdout",
     "output_type": "stream",
     "text": [
      "extracting video features...\n",
      "Extracting brightness...\n"
     ]
    },
    {
     "name": "stderr",
     "output_type": "stream",
     "text": [
      "Stim: 1461it [00:16, 86.33it/s]\n"
     ]
    },
    {
     "name": "stdout",
     "output_type": "stream",
     "text": [
      "Extracting saliency...\n"
     ]
    },
    {
     "name": "stderr",
     "output_type": "stream",
     "text": [
      "Stim: 1461it [03:02,  8.01it/s]\n"
     ]
    },
    {
     "name": "stdout",
     "output_type": "stream",
     "text": [
      "Extracting sharpness...\n"
     ]
    },
    {
     "name": "stderr",
     "output_type": "stream",
     "text": [
      "Stim: 1461it [00:02, 539.10it/s]\n"
     ]
    },
    {
     "name": "stdout",
     "output_type": "stream",
     "text": [
      "Extracting vibrance...\n"
     ]
    },
    {
     "name": "stderr",
     "output_type": "stream",
     "text": [
      "Stim: 1461it [00:42, 34.14it/s]\n"
     ]
    },
    {
     "name": "stdout",
     "output_type": "stream",
     "text": [
      "Combining data...\n",
      "Visual feature extraction complete.\n",
      "done!\n",
      "extracting audio features...\n",
      "Extracting dynamic tempo...\n",
      "Extracting loudness...\n",
      "Extracting major music beats...\n",
      "Aggregating data...\n",
      "Auditory feature extraction complete.\n",
      "done!\n"
     ]
    }
   ],
   "source": [
    "import emocodes as ec\n",
    "import pandas as pd\n",
    "\n",
    "video_file = '/Users/catcamacho/Documents/GitHub/emocodes/testing/data/sample_clip1.mp4' # must be MP4\n",
    "sampling_rate = 10 # in Hz\n",
    "\n",
    "features = ec.ExtractVideoFeatures().extract_features(video_file, sampling_rate)"
   ]
  },
  {
   "cell_type": "markdown",
   "id": "99f4da8d-46e6-4ad5-91cf-6d7f3f5b70a7",
   "metadata": {},
   "source": [
    "The above class produces a CSV with the video features called \"/Users/catcamacho/Documents/GitHub/emocodes/testing/data/sample_clip1_features.csv\". We can also access it from the class directly since we have it loaded up."
   ]
  },
  {
   "cell_type": "code",
   "execution_count": 2,
   "id": "ac87ec27-68c2-4dbe-8c63-74064c51ef43",
   "metadata": {},
   "outputs": [
    {
     "data": {
      "text/html": [
       "<div>\n",
       "<style scoped>\n",
       "    .dataframe tbody tr th:only-of-type {\n",
       "        vertical-align: middle;\n",
       "    }\n",
       "\n",
       "    .dataframe tbody tr th {\n",
       "        vertical-align: top;\n",
       "    }\n",
       "\n",
       "    .dataframe thead th {\n",
       "        text-align: right;\n",
       "    }\n",
       "</style>\n",
       "<table border=\"1\" class=\"dataframe\">\n",
       "  <thead>\n",
       "    <tr style=\"text-align: right;\">\n",
       "      <th></th>\n",
       "      <th>brightness</th>\n",
       "      <th>frac_high_saliency</th>\n",
       "      <th>sharpness</th>\n",
       "      <th>vibrance</th>\n",
       "      <th>rms</th>\n",
       "      <th>beats</th>\n",
       "      <th>dynamic_tempo</th>\n",
       "    </tr>\n",
       "    <tr>\n",
       "      <th>time_ms</th>\n",
       "      <th></th>\n",
       "      <th></th>\n",
       "      <th></th>\n",
       "      <th></th>\n",
       "      <th></th>\n",
       "      <th></th>\n",
       "      <th></th>\n",
       "    </tr>\n",
       "  </thead>\n",
       "  <tbody>\n",
       "    <tr>\n",
       "      <th>0.0</th>\n",
       "      <td>0.376637</td>\n",
       "      <td>0.352731</td>\n",
       "      <td>1.0</td>\n",
       "      <td>370.878880</td>\n",
       "      <td>0.064232</td>\n",
       "      <td>0.1</td>\n",
       "      <td>169.394531</td>\n",
       "    </tr>\n",
       "    <tr>\n",
       "      <th>100.0</th>\n",
       "      <td>0.372393</td>\n",
       "      <td>0.352521</td>\n",
       "      <td>1.0</td>\n",
       "      <td>363.655722</td>\n",
       "      <td>0.064523</td>\n",
       "      <td>0.0</td>\n",
       "      <td>172.265625</td>\n",
       "    </tr>\n",
       "    <tr>\n",
       "      <th>200.0</th>\n",
       "      <td>0.334205</td>\n",
       "      <td>0.340044</td>\n",
       "      <td>1.0</td>\n",
       "      <td>298.343229</td>\n",
       "      <td>0.067314</td>\n",
       "      <td>0.0</td>\n",
       "      <td>172.265625</td>\n",
       "    </tr>\n",
       "    <tr>\n",
       "      <th>300.0</th>\n",
       "      <td>0.297925</td>\n",
       "      <td>0.339049</td>\n",
       "      <td>1.0</td>\n",
       "      <td>240.070889</td>\n",
       "      <td>0.083041</td>\n",
       "      <td>0.0</td>\n",
       "      <td>172.265625</td>\n",
       "    </tr>\n",
       "    <tr>\n",
       "      <th>400.0</th>\n",
       "      <td>0.257110</td>\n",
       "      <td>0.331729</td>\n",
       "      <td>1.0</td>\n",
       "      <td>182.240036</td>\n",
       "      <td>0.071761</td>\n",
       "      <td>0.0</td>\n",
       "      <td>172.265625</td>\n",
       "    </tr>\n",
       "  </tbody>\n",
       "</table>\n",
       "</div>"
      ],
      "text/plain": [
       "         brightness  frac_high_saliency  sharpness    vibrance       rms  \\\n",
       "time_ms                                                                    \n",
       "0.0        0.376637            0.352731        1.0  370.878880  0.064232   \n",
       "100.0      0.372393            0.352521        1.0  363.655722  0.064523   \n",
       "200.0      0.334205            0.340044        1.0  298.343229  0.067314   \n",
       "300.0      0.297925            0.339049        1.0  240.070889  0.083041   \n",
       "400.0      0.257110            0.331729        1.0  182.240036  0.071761   \n",
       "\n",
       "         beats  dynamic_tempo  \n",
       "time_ms                        \n",
       "0.0        0.1     169.394531  \n",
       "100.0      0.0     172.265625  \n",
       "200.0      0.0     172.265625  \n",
       "300.0      0.0     172.265625  \n",
       "400.0      0.0     172.265625  "
      ]
     },
     "execution_count": 2,
     "metadata": {},
     "output_type": "execute_result"
    }
   ],
   "source": [
    "features.combined_df.head()"
   ]
  },
  {
   "cell_type": "markdown",
   "id": "20c7aca9-7b2a-437b-a7fb-7e3df6351839",
   "metadata": {},
   "source": [
    "We can now combine these features with the manual codes from this clip:"
   ]
  },
  {
   "cell_type": "code",
   "execution_count": 3,
   "id": "57c34fa0-8333-485d-b489-e9aae515f546",
   "metadata": {},
   "outputs": [],
   "source": [
    "codes = pd.read_csv('/Users/catcamacho/Dropbox/Mac/Documents/GitHub/emocodes/testing/data/sample_codes_clip1.csv', index_col=0)\n",
    "combined = codes.merge(features.combined_df, how='left', left_index=True, right_index=True)\n",
    "combined.to_csv('/Users/catcamacho/Dropbox/Mac/Documents/GitHub/emocodes/testing/data/sample_codes_clip1_combinedfeatures.csv')"
   ]
  },
  {
   "cell_type": "markdown",
   "id": "21cfca9f-5033-41d8-ad0a-3bdc87de08b6",
   "metadata": {},
   "source": [
    "### Generate Report"
   ]
  },
  {
   "cell_type": "code",
   "execution_count": 4,
   "id": "01c058ba-84ed-435f-bf14-dc32549a342e",
   "metadata": {},
   "outputs": [
    {
     "data": {
      "text/plain": [
       "<emocodes.analysis.features.SummarizeVideoFeatures at 0x1708d8bb0>"
      ]
     },
     "execution_count": 4,
     "metadata": {},
     "output_type": "execute_result"
    },
    {
     "data": {
      "text/plain": [
       "<Figure size 504x324 with 0 Axes>"
      ]
     },
     "metadata": {},
     "output_type": "display_data"
    },
    {
     "data": {
      "text/plain": [
       "<Figure size 504x324 with 0 Axes>"
      ]
     },
     "metadata": {},
     "output_type": "display_data"
    }
   ],
   "source": [
    "in_file = '/Users/catcamacho/Dropbox/Mac/Documents/GitHub/emocodes/testing/data/sample_clip1_features.csv'\n",
    "out_folder = '/Users/catcamacho/Dropbox/Mac/Documents/GitHub/emocodes/testing/data/full_report'\n",
    "\n",
    "ec.SummarizeVideoFeatures().compile(in_file, out_folder)"
   ]
  },
  {
   "cell_type": "markdown",
   "id": "4b082b8b-de86-4ebc-96bd-b3fd7b94626e",
   "metadata": {},
   "source": [
    "Below is what the produced report looks like:"
   ]
  },
  {
   "cell_type": "markdown",
   "id": "377bc7e6-e144-418f-91fb-a2c070dbe36e",
   "metadata": {},
   "source": [
    "# EmoCodes Analysis Summary Report\n",
    "\n",
    "**in_file:** /Users/catcamacho/Dropbox/Mac/Documents/GitHub/emocodes/testing/data/sample_clip1_features.csv \n",
    "\n",
    "| Feature | Non-Zero | Min Value | Max Value |\n",
    "| :------ | :------: | :-------: | :-------: |\n",
    "| brightness | 97.95% | 0.0 | 1.0 |\n",
    "| frac_high_saliency | 97.95% | 0.0 | 0.4 |\n",
    "| sharpness | 97.95% | 0.0 | 1.0 |\n",
    "| vibrance | 95.67% | 0.0 | 3784.3 |\n",
    "| rms | 100.0% | 0.0 | 0.2 |\n",
    "| beats | 18.22% | 0.0 | 0.1 |\n",
    "| dynamic_tempo | 100.0% | 112.3 | 172.3 |\n",
    "\n",
    "******\n",
    "\n",
    "## Features Included in this Analysis\n",
    "\n",
    "### Original Features\n",
    "\n",
    "![feature plots](llfigs/features_plot.png)\n",
    "\n",
    "### After HRF convolution (6s peak, 12s undershoot)\n",
    "\n",
    "![hrf-convolved feature plots](llfigs/hrf_features_plot.png)\n",
    "\n",
    "******\n",
    "\n",
    "## Spearman Correlations\n",
    "\n",
    "![correlation plots](llfigs/corr_plot.png)\n",
    "\n",
    "******\n",
    "## Mean Instantaneous Phase Synchrony\n",
    "\n",
    "![mean IPS plots](llfigs/mean_ips_plot.png)\n",
    "\n",
    "******\n",
    "## Variance Inflation Factors\n",
    "\n",
    "![VIF plots](llfigs/vif_plot.png)\n"
   ]
  },
  {
   "cell_type": "code",
   "execution_count": null,
   "id": "eec3a39b-52e4-4c49-99c8-c132fceba88a",
   "metadata": {},
   "outputs": [],
   "source": []
  }
 ],
 "metadata": {
  "kernelspec": {
   "display_name": "Python 3 (ipykernel)",
   "language": "python",
   "name": "python3"
  },
  "language_info": {
   "codemirror_mode": {
    "name": "ipython",
    "version": 3
   },
   "file_extension": ".py",
   "mimetype": "text/x-python",
   "name": "python",
   "nbconvert_exporter": "python",
   "pygments_lexer": "ipython3",
   "version": "3.8.9"
  }
 },
 "nbformat": 4,
 "nbformat_minor": 5
}
