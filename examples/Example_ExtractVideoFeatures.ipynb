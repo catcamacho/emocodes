{
 "cells": [
  {
   "cell_type": "markdown",
   "id": "ec65da32-a3d7-4dd1-8758-a614dcdf631b",
   "metadata": {},
   "source": [
    "# How to Extract Low-Level Video Features using the EmoCodes Library\n",
    "This notebook provides a step-by-step guide on how to automatically extract low-level video features from a video file. \n",
    "\n",
    "**Note**: This processing will take longer for larger video files."
   ]
  },
  {
   "cell_type": "code",
   "execution_count": null,
   "id": "a069dcbb-c424-4bba-a03c-fa2ac9743f0e",
   "metadata": {},
   "outputs": [
    {
     "name": "stdout",
     "output_type": "stream",
     "text": [
      "extracting video features...\n",
      "Extracting brightness...\n"
     ]
    },
    {
     "name": "stderr",
     "output_type": "stream",
     "text": [
      "Stim: 2680it [01:08, 39.36it/s]"
     ]
    }
   ],
   "source": [
    "import emocodes as ec\n",
    "import pandas as pd\n",
    "\n",
    "video_file = '/Users/catcamacho/Box/CCP/EmoCodes_project/reliability_data/episodes/AHKJ_S1E2.mp4' # must be MP4\n",
    "sampling_rate = 1.2 # in Hz\n",
    "\n",
    "ec.ExtractVideoFeatures().extract_features(video_file, sampling_rate)"
   ]
  },
  {
   "cell_type": "code",
   "execution_count": null,
   "id": "be00927c-cb62-4196-850f-fdd69f84ca19",
   "metadata": {},
   "outputs": [],
   "source": []
  }
 ],
 "metadata": {
  "kernelspec": {
   "display_name": "Python 3 (ipykernel)",
   "language": "python",
   "name": "python3"
  },
  "language_info": {
   "codemirror_mode": {
    "name": "ipython",
    "version": 3
   },
   "file_extension": ".py",
   "mimetype": "text/x-python",
   "name": "python",
   "nbconvert_exporter": "python",
   "pygments_lexer": "ipython3",
   "version": "3.8.9"
  }
 },
 "nbformat": 4,
 "nbformat_minor": 5
}
