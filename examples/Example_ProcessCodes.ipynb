{
 "cells": [
  {
   "cell_type": "markdown",
   "id": "c2353b52-dfea-4174-92ed-f7ea0db19427",
   "metadata": {},
   "source": [
    "# How to process codes using the EmoCodes Library\n",
    "This notebook details how to take a codes CSV (exported from Datavyu) and fully process it using the emocodes library."
   ]
  },
  {
   "cell_type": "markdown",
   "id": "a37836fe-4932-40fc-a59f-64fe0ffad0d1",
   "metadata": {},
   "source": [
    "## 1. Validate the code file"
   ]
  },
  {
   "cell_type": "code",
   "execution_count": 1,
   "id": "b4fac53e-d75d-4a8e-a144-874d30492448",
   "metadata": {},
   "outputs": [
    {
     "data": {
      "text/plain": [
       "<emocodes.processing.codes.ValidateTimeSeries at 0x103c42640>"
      ]
     },
     "execution_count": 1,
     "metadata": {},
     "output_type": "execute_result"
    }
   ],
   "source": [
    "import emocodes as ec\n",
    "\n",
    "# first assign your codes and video files to a variable (for readability)\n",
    "code_file = '/Users/catcamacho/Box/CCP/EmoCodes_project/reliability_data/raw/AHKJS1E2_objective_codes_DB.csv'\n",
    "video_file = '/Users/catcamacho/Box/CCP/EmoCodes_project/reliability_data/episodes/AHKJ_S1E2.mp4'\n",
    "\n",
    "# now run the validation class\n",
    "ec.ValidateTimeSeries().run(code_file, video_file)"
   ]
  },
  {
   "cell_type": "markdown",
   "id": "60edeea2-ea0c-4848-8d3a-31e8b973445f",
   "metadata": {},
   "source": [
    "That command produced a series of reports in the same folder as the code file (by default). The report for this file is reproduced below.  Based on this report, it looks like I need to double check the onsets for has_faces and num_chars.\n",
    "\n",
    "### EmoCodes Code Validation Report\n",
    "\n",
    "**Datavyu file:** /Users/catcamacho/Box/CCP/EmoCodes_project/reliability_data/raw/AHKJS1E2_objective_codes_DB.csv \n",
    "\n",
    "**video file:** /Users/catcamacho/Box/CCP/EmoCodes_project/reliability_data/episodes/AHKJ_S1E2.mp4 \n",
    "\n",
    "**Full Report Table**: /Users/catcamacho/Box/CCP/EmoCodes_project/reliability_data/raw/AHKJS1E2_objective_codes_DB_report_20211026.csv\n",
    "\n",
    "**Code labels found**: closeup, collective, has_body, has_faces, has_words, num_chars, time_of_day\n",
    "\n",
    "#### Timestamps Brief Report \n",
    "\n",
    "Please note that the cell numbers are zero-indexed, meaning the count starts at 0, not 1.\n",
    "\n",
    "| Label | Cells with Bad Onsets | Cells with Bad Offsets | Cells with Bad Durations |\n",
    "| :---- | :-------------------: | :--------------------: | :----------------------: |\n",
    "| closeup | None | None | None |\n",
    "| collective | None | None | None |\n",
    "| has_body | None | None | None |\n",
    "| has_faces | 9,25,26,39,41,62,66,68,80,86,95,100,105 | None | None |\n",
    "| has_words | None | None | None |\n",
    "| num_chars | 115 | None | None |\n",
    "| time_of_day | None | None | None |\n",
    "\n",
    "******\n",
    "\n",
    "#### Values Brief Report \n",
    "\n",
    "Please note that the cell numbers are zero-indexed, meaning the count starts at 0, not 1.\n",
    "\n",
    "| Label | Unique Values | # Empty Cells | List Empty Cells |\n",
    "| :---- | :-----------: | :-----------: | :--------------: |\n",
    "| closeup | 0.0,1.0 | 0 | None |\n",
    "| collective | 0.0,1.0 | 0 | None |\n",
    "| has_body | 0.0,1.0 | 0 | None |\n",
    "| has_faces | 0.0,1.0 | 0 | None |\n",
    "| has_words | 0.0,1.0 | 0 | None |\n",
    "| num_chars | 0,1,2,3,4,5 | 0 | None |\n",
    "| time_of_day | 0.0,1.0 | 0 | None |"
   ]
  },
  {
   "cell_type": "markdown",
   "id": "7a50a47d-7b39-4ffb-bef7-0f2e05bfeb88",
   "metadata": {},
   "source": [
    "## 2. Process validated code file\n",
    "Once the codes are what you want and the timestamps/values have been finalized, the next step is to convert it to timeseries. In this example, I would like to analyze this data at 1.2 Hz (corresponding to an 800ms TR in my fMRI data).\n",
    "\n",
    "**Note**: The CodeTimeSeries class prints out any assumptions it makes when converting the time segments to the timeseries values.  In the below example, there are short periods in each of the labels that were not included in the code segments, so the class interpolated their values using nearnest neightbor interpolation.  This feature can be turned off using the \"interpolate_gaps=False\" argument.  Read more here: https://emocodes.readthedocs.io/en/main/autoapi/emocodes/processing/index.html#emocodes.processing.CodeTimeSeries"
   ]
  },
  {
   "cell_type": "code",
   "execution_count": 2,
   "id": "c4971831-c933-4de9-aa9d-8ded0d0aa3b8",
   "metadata": {},
   "outputs": [
    {
     "name": "stdout",
     "output_type": "stream",
     "text": [
      "Warning: The last offset for code 'closeup' is after the end of the video. Correcting.\n",
      "Warning: there are 3.5999999999999996ms of interpolated codes for 'closeup'\n",
      "Warning: The last offset for code 'collective' is after the end of the video. Correcting.\n",
      "Warning: there are 2.4ms of interpolated codes for 'collective'\n",
      "Warning: The last offset for code 'has_body' is after the end of the video. Correcting.\n",
      "Warning: there are 1.2ms of interpolated codes for 'has_body'\n",
      "Warning: The last offset for code 'has_faces' is after the end of the video. Correcting.\n",
      "Warning: there are 2.4ms of interpolated codes for 'has_faces'\n",
      "Warning: The last offset for code 'has_words' is after the end of the video. Correcting.\n",
      "Warning: there are 1.2ms of interpolated codes for 'has_words'\n",
      "Warning: The last offset for code 'num_chars' is after the end of the video. Correcting.\n",
      "Warning: there are 20.4ms of interpolated codes for 'num_chars'\n",
      "Warning: The last offset for code 'time_of_day' is after the end of the video. Correcting.\n",
      "Warning: there are 1.2ms of interpolated codes for 'time_of_day'\n",
      "Code time series saved at /Users/catcamacho/Dropbox/Mac/Documents/GitHub/emocodes/examples/AHKJS1E2_objective_codes_timeseries_DB_20211026.csv\n"
     ]
    }
   ],
   "source": [
    "# first assign your codes and video files to a variable (for readability)\n",
    "code_file = '/Users/catcamacho/Box/CCP/EmoCodes_project/reliability_data/raw/AHKJS1E2_objective_codes_DB.csv'\n",
    "video_file = '/Users/catcamacho/Box/CCP/EmoCodes_project/reliability_data/episodes/AHKJ_S1E2.mp4'\n",
    "out_file = '/Users/catcamacho/Box/CCP/EmoCodes_project/reliability_data/processed/AHKJS1E2_objective_codes_timeseries_DB'\n",
    "\n",
    "ec.CodeTimeSeries(sampling_rate=1.2).proc_codes_file(code_file, video_file, out_file)"
   ]
  },
  {
   "cell_type": "markdown",
   "id": "fb9a359f-67b2-4c56-a1fd-d79014614fae",
   "metadata": {},
   "source": [
    "Here is what the ouput looks like:"
   ]
  },
  {
   "cell_type": "code",
   "execution_count": 3,
   "id": "c6a6f1b9-5e88-4ffe-8d82-c50a70e89508",
   "metadata": {},
   "outputs": [
    {
     "data": {
      "text/html": [
       "<div>\n",
       "<style scoped>\n",
       "    .dataframe tbody tr th:only-of-type {\n",
       "        vertical-align: middle;\n",
       "    }\n",
       "\n",
       "    .dataframe tbody tr th {\n",
       "        vertical-align: top;\n",
       "    }\n",
       "\n",
       "    .dataframe thead th {\n",
       "        text-align: right;\n",
       "    }\n",
       "</style>\n",
       "<table border=\"1\" class=\"dataframe\">\n",
       "  <thead>\n",
       "    <tr style=\"text-align: right;\">\n",
       "      <th></th>\n",
       "      <th>closeup</th>\n",
       "      <th>collective</th>\n",
       "      <th>has_body</th>\n",
       "      <th>has_faces</th>\n",
       "      <th>has_words</th>\n",
       "      <th>num_chars</th>\n",
       "      <th>time_of_day</th>\n",
       "    </tr>\n",
       "    <tr>\n",
       "      <th>onset_ms</th>\n",
       "      <th></th>\n",
       "      <th></th>\n",
       "      <th></th>\n",
       "      <th></th>\n",
       "      <th></th>\n",
       "      <th></th>\n",
       "      <th></th>\n",
       "    </tr>\n",
       "  </thead>\n",
       "  <tbody>\n",
       "    <tr>\n",
       "      <th>0</th>\n",
       "      <td>0.0</td>\n",
       "      <td>0.0</td>\n",
       "      <td>0.0</td>\n",
       "      <td>0.0</td>\n",
       "      <td>0.0</td>\n",
       "      <td>0.0</td>\n",
       "      <td>1.0</td>\n",
       "    </tr>\n",
       "    <tr>\n",
       "      <th>833</th>\n",
       "      <td>0.0</td>\n",
       "      <td>0.0</td>\n",
       "      <td>0.0</td>\n",
       "      <td>0.0</td>\n",
       "      <td>0.0</td>\n",
       "      <td>0.0</td>\n",
       "      <td>1.0</td>\n",
       "    </tr>\n",
       "    <tr>\n",
       "      <th>1666</th>\n",
       "      <td>0.0</td>\n",
       "      <td>0.0</td>\n",
       "      <td>0.0</td>\n",
       "      <td>0.0</td>\n",
       "      <td>0.0</td>\n",
       "      <td>0.0</td>\n",
       "      <td>1.0</td>\n",
       "    </tr>\n",
       "    <tr>\n",
       "      <th>2499</th>\n",
       "      <td>0.0</td>\n",
       "      <td>0.0</td>\n",
       "      <td>0.0</td>\n",
       "      <td>0.0</td>\n",
       "      <td>0.0</td>\n",
       "      <td>0.0</td>\n",
       "      <td>1.0</td>\n",
       "    </tr>\n",
       "    <tr>\n",
       "      <th>3332</th>\n",
       "      <td>0.0</td>\n",
       "      <td>0.0</td>\n",
       "      <td>0.0</td>\n",
       "      <td>0.0</td>\n",
       "      <td>0.0</td>\n",
       "      <td>0.0</td>\n",
       "      <td>1.0</td>\n",
       "    </tr>\n",
       "  </tbody>\n",
       "</table>\n",
       "</div>"
      ],
      "text/plain": [
       "          closeup  collective  has_body  has_faces  has_words  num_chars  \\\n",
       "onset_ms                                                                   \n",
       "0             0.0         0.0       0.0        0.0        0.0        0.0   \n",
       "833           0.0         0.0       0.0        0.0        0.0        0.0   \n",
       "1666          0.0         0.0       0.0        0.0        0.0        0.0   \n",
       "2499          0.0         0.0       0.0        0.0        0.0        0.0   \n",
       "3332          0.0         0.0       0.0        0.0        0.0        0.0   \n",
       "\n",
       "          time_of_day  \n",
       "onset_ms               \n",
       "0                 1.0  \n",
       "833               1.0  \n",
       "1666              1.0  \n",
       "2499              1.0  \n",
       "3332              1.0  "
      ]
     },
     "execution_count": 3,
     "metadata": {},
     "output_type": "execute_result"
    }
   ],
   "source": [
    "import pandas as pd\n",
    "\n",
    "codes = pd.read_csv('/Users/catcamacho/Box/CCP/EmoCodes_project/reliability_data/processed/AHKJS1E2_objective_codes_timeseries_DB_20211026.csv', index_col=0)\n",
    "codes.head()"
   ]
  },
  {
   "cell_type": "markdown",
   "id": "26d7dbd5-1e79-4099-aa0f-9aa5c2662ad3",
   "metadata": {},
   "source": [
    "## 3. Make a summary report\n",
    "To better visualize the data, it can be helpful to produce a summary report.  These reports can also be used before neuroimaging analysis to better gauge represention of each code across the video and the collineary between the coded features among other things.  Below is the report for the example file."
   ]
  },
  {
   "cell_type": "code",
   "execution_count": 4,
   "id": "e182162c-ac6f-420c-a358-8d93e5c311a2",
   "metadata": {},
   "outputs": [
    {
     "data": {
      "text/plain": [
       "<emocodes.analysis.features.SummarizeVideoFeatures at 0x103c42580>"
      ]
     },
     "execution_count": 4,
     "metadata": {},
     "output_type": "execute_result"
    },
    {
     "data": {
      "text/plain": [
       "<Figure size 504x324 with 0 Axes>"
      ]
     },
     "metadata": {},
     "output_type": "display_data"
    },
    {
     "data": {
      "text/plain": [
       "<Figure size 504x324 with 0 Axes>"
      ]
     },
     "metadata": {},
     "output_type": "display_data"
    }
   ],
   "source": [
    "in_file = '/Users/catcamacho/Box/CCP/EmoCodes_project/reliability_data/processed/AHKJS1E2_objective_codes_timeseries_DB_20211026.csv'\n",
    "out_folder = '/Users/catcamacho/Box/CCP/EmoCodes_project/reliability_data/processed/report'\n",
    "\n",
    "ec.SummarizeVideoFeatures().compile(in_file, out_folder)"
   ]
  },
  {
   "cell_type": "markdown",
   "id": "66bf5dd0-0b4d-463f-9033-c56ea971d7e4",
   "metadata": {},
   "source": [
    "# EmoCodes Analysis Summary Report\n",
    "\n",
    "**in_file:** /Users/catcamacho/Box/CCP/EmoCodes_project/reliability_data/processed/AHKJS1E2_objective_codes_timeseries_DB_20211026.csv \n",
    "\n",
    "| Feature | Non-Zero | Min Value | Max Value |\n",
    "| :------ | :------: | :-------: | :-------: |\n",
    "| closeup | 20.23% | 0.0 | 1.0 |\n",
    "| collective | 14.72% | 0.0 | 1.0 |\n",
    "| has_body | 93.39% | 0.0 | 1.0 |\n",
    "| has_faces | 90.73% | 0.0 | 1.0 |\n",
    "| has_words | 4.86% | 0.0 | 1.0 |\n",
    "| num_chars | 94.81% | 0.0 | 5.0 |\n",
    "| time_of_day | 84.7% | 0.0 | 1.0 |\n",
    "\n",
    "******\n",
    "\n",
    "## Features Included in this Analysis\n",
    "\n",
    "### Original Features\n",
    "\n",
    "![feature plots](figs/features_plot.png)\n",
    "\n",
    "### After HRF convolution (6s peak, 12s undershoot)\n",
    "\n",
    "![hrf-convolved feature plots](figs/hrf_features_plot.png)\n",
    "\n",
    "******\n",
    "\n",
    "## Spearman Correlations\n",
    "\n",
    "![correlation plots](figs/corr_plot.png)\n",
    "\n",
    "******\n",
    "## Mean Instantaneous Phase Synchrony\n",
    "\n",
    "![mean IPS plots](figs/mean_ips_plot.png)\n",
    "\n",
    "******\n",
    "## Variance Inflation Factors\n",
    "\n",
    "![VIF plots](figs/vif_plot.png)\n"
   ]
  },
  {
   "cell_type": "code",
   "execution_count": null,
   "id": "23269dab-7872-46e5-9c2f-3febfbb9e678",
   "metadata": {},
   "outputs": [],
   "source": []
  }
 ],
 "metadata": {
  "kernelspec": {
   "display_name": "Python 3 (ipykernel)",
   "language": "python",
   "name": "python3"
  },
  "language_info": {
   "codemirror_mode": {
    "name": "ipython",
    "version": 3
   },
   "file_extension": ".py",
   "mimetype": "text/x-python",
   "name": "python",
   "nbconvert_exporter": "python",
   "pygments_lexer": "ipython3",
   "version": "3.8.9"
  }
 },
 "nbformat": 4,
 "nbformat_minor": 5
}
