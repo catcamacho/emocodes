{
 "cells": [
  {
   "cell_type": "code",
   "execution_count": null,
   "metadata": {
    "collapsed": true
   },
   "outputs": [],
   "source": [
    "def separate_voice_music(audio_file):\n",
    "    \"\"\"\n",
    "\n",
    "    Parameters\n",
    "    ----------\n",
    "    audio_file : str\n",
    "        The audio file to be processed\n",
    "\n",
    "    Returns\n",
    "    -------\n",
    "    voice_file : str\n",
    "        The file path to the separated voice track from the video file\n",
    "\n",
    "    music_file : str\n",
    "        The file path to the separated music track from the video file\n",
    "\n",
    "    \"\"\"\n",
    "\n",
    "    out_folder = os.path.dirname(audio_file)\n",
    "    check_call(['spleeter', 'separate', '-p', 'spleeter:2stems', '-o', out_folder, audio_file])\n",
    "    foldername = os.path.splitext(os.path.basename(audio_file))[0]\n",
    "    voice_file = out_folder + '/' + foldername + '/vocals.wav'\n",
    "    music_file = out_folder + '/' + foldername + '/accompaniment.wav'\n",
    "    return voice_file, music_file\n"
   ]
  }
 ],
 "metadata": {
  "kernelspec": {
   "display_name": "Python 3",
   "language": "python",
   "name": "python3"
  },
  "language_info": {
   "codemirror_mode": {
    "name": "ipython",
    "version": 2
   },
   "file_extension": ".py",
   "mimetype": "text/x-python",
   "name": "python",
   "nbconvert_exporter": "python",
   "pygments_lexer": "ipython2",
   "version": "2.7.6"
  }
 },
 "nbformat": 4,
 "nbformat_minor": 0
}