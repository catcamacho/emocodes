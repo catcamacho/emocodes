{
 "cells": [
  {
   "cell_type": "markdown",
   "metadata": {},
   "source": [
    "# Reliability Analysis Notebook"
   ]
  },
  {
   "cell_type": "markdown",
   "metadata": {},
   "source": [
    "### 1. Process manual codes"
   ]
  },
  {
   "cell_type": "code",
   "execution_count": null,
   "metadata": {
    "tags": []
   },
   "outputs": [],
   "source": [
    "from glob import glob\n",
    "from emocodes import CodeTimeSeries\n",
    "\n",
    "raw_dir = '/Users/catcamacho/Box/CCP/EmoCodes_project/reliability_data/raw/'\n",
    "\n",
    "movie = 'MLP'\n",
    "    \n",
    "if movie=='AHKJ':\n",
    "    raw_files = glob(raw_dir + 'AHKJ*_subjective_char*')\n",
    "    video = '/Users/catcamacho/Box/CCP/EmoCodes_project/reliability_data/episodes/AHKJ_S1E2.mp4'\n",
    "    preproc_dir = '/Users/catcamacho/Box/CCP/EmoCodes_project/reliability_data/processed/AHKJ_S1E2/'\n",
    "elif movie=='MLP':\n",
    "    raw_files = glob(raw_dir + 'MLP*_subjective_char*')\n",
    "    video = '/Users/catcamacho/Box/CCP/EmoCodes_project/reliability_data/episodes/MLP_S8E3_20.mp4'\n",
    "    preproc_dir = '/Users/catcamacho/Box/CCP/EmoCodes_project/reliability_data/processed/MLP_S8E3/'\n",
    "\n",
    "cts = CodeTimeSeries(sampling_rate=10)\n",
    "\n",
    "for file in raw_files:\n",
    "    initials = file[-6:-4]\n",
    "    name_start = file.find('codes_') + len('codes_')\n",
    "    name_end = file.find('_'+initials)\n",
    "    char_name = file[name_start:name_end].lower().capitalize()\n",
    "    print(initials)\n",
    "    print(char_name)\n",
    "    cts.proc_codes_file(codes_file=file, video_file=video, save_file_name=preproc_dir+'subjective_character_{1}_timeseries_{0}'.format(initials, char_name))    "
   ]
  },
  {
   "cell_type": "markdown",
   "metadata": {},
   "source": [
    "### 2. Pull in processed data and combine into 1 dataframe"
   ]
  },
  {
   "cell_type": "code",
   "execution_count": null,
   "metadata": {},
   "outputs": [],
   "source": [
    "# pull in data and assign processing directories\n",
    "from glob import glob\n",
    "preproc_dir = '/Users/catcamacho/Box/CCP/EmoCodes_project/reliability_data/processed/'\n",
    "\n",
    "episode = 'AHKJ_S1E2'\n",
    "files = sorted(glob(preproc_dir + '{0}/*Julien*'.format(episode)))"
   ]
  },
  {
   "cell_type": "code",
   "execution_count": null,
   "metadata": {},
   "outputs": [],
   "source": [
    "# pull in data and combine into 1 dataframe with a rater column\n",
    "import pandas as pd\n",
    "\n",
    "dfs = []\n",
    "for file in files:\n",
    "    rater = file[-22:-20]\n",
    "    temp = pd.read_csv(file, index_col=None)\n",
    "    if 'on_screen' in temp.columns:\n",
    "        variables = temp.columns.tolist()\n",
    "        variables.remove('time')\n",
    "        temp.loc[temp['on_screen']==0, variables] = 0 \n",
    "    temp.index = pd.to_datetime(temp['time'],unit='ms')\n",
    "    temp.index.name = 'timeseries'\n",
    "    temp2 = temp.resample('1s').mean().round(0)\n",
    "    temp2['rater'] = rater\n",
    "    temp2.index = range(0,len(temp2),1)\n",
    "    temp2.index.name='onset_seconds'\n",
    "    dfs.append(temp2)\n",
    "    \n",
    "data = pd.concat(dfs)"
   ]
  },
  {
   "cell_type": "markdown",
   "metadata": {},
   "source": [
    "### 3. Compute ICCs across the entire video"
   ]
  },
  {
   "cell_type": "code",
   "execution_count": null,
   "metadata": {
    "tags": []
   },
   "outputs": [],
   "source": [
    "# compute ICCs\n",
    "import pingouin as pg\n",
    "\n",
    "variables = data1hz.columns.to_list()\n",
    "variables.remove('rater')\n",
    "variables.remove('time')\n",
    "icc_df = pd.DataFrame(columns=['instance_level_ICC', 'instance_level_consistency','overall_mean_ICC'])\n",
    "\n",
    "for x in variables:\n",
    "    icc = pg.intraclass_corr(data=data, targets='time',raters='rater',ratings=x, nan_policy='omit').round(3)\n",
    "    icc_df.loc[x, 'instance_level_ICC'] = icc.loc[1, 'ICC']\n",
    "    icc_df.loc[x, 'overall_mean_ICC'] = icc.loc[4, 'ICC']\n",
    "\n",
    "    # evaluate item-level ICCs\n",
    "    if icc.loc[1, 'ICC'] < 0.50:\n",
    "        icc_df.loc[x, 'instance_level_consistency'] = 'poor'\n",
    "    elif (icc.loc[1, 'ICC'] >= 0.50) & (icc.loc[1, 'ICC'] < 0.75):\n",
    "        icc_df.loc[x, 'instance_level_consistency'] = 'moderate'\n",
    "    elif (icc.loc[1, 'ICC'] >= 0.75) & (icc.loc[1, 'ICC'] < 0.90):\n",
    "        icc_df.loc[x, 'instance_level_consistency'] = 'good'\n",
    "    elif icc.loc[1, 'ICC'] >= 0.90:\n",
    "        icc_df.loc[x, 'instance_level_consistency'] = 'excellent'\n",
    "\n",
    "icc_df.to_csv('iccs_mlp_subjectivechar.csv')"
   ]
  },
  {
   "cell_type": "markdown",
   "metadata": {},
   "source": [
    "### 4. Compute ICCs for 3 minute windows"
   ]
  },
  {
   "cell_type": "code",
   "execution_count": null,
   "metadata": {
    "scrolled": true,
    "tags": []
   },
   "outputs": [],
   "source": [
    "# compute ICCs\n",
    "import pingouin as pg\n",
    "import numpy as np\n",
    "\n",
    "variables = data.columns.to_list()\n",
    "variables.remove('rater')\n",
    "variables.remove('time')\n",
    "wind_icc_df = pd.DataFrame(columns=['start', 'end', 'variable', 'instance_level_ICC', 'overall_mean_ICC'])\n",
    "\n",
    "window_size = 180\n",
    "overlap = 20\n",
    "start = 0\n",
    "end = start + window_size\n",
    "\n",
    "while end < max(data1hz.index):\n",
    "    temp = data[(data.index >= start) & (data.index <= end)]\n",
    "    for x in variables:\n",
    "        wind_icc_df.loc['{0}_{1}_{2}'.format(x, start, end), 'start'] = start\n",
    "        wind_icc_df.loc['{0}_{1}_{2}'.format(x, start, end), 'end'] = end\n",
    "        wind_icc_df.loc['{0}_{1}_{2}'.format(x, start, end), 'variable'] = x\n",
    "        \n",
    "        icc = pg.intraclass_corr(data=temp, targets='time',raters='rater',ratings=x, nan_policy='omit').round(3)\n",
    "        wind_icc_df.loc['{0}_{1}_{2}'.format(x, start, end), 'instance_level_ICC'] = icc.loc[1, 'ICC']\n",
    "        wind_icc_df.loc['{0}_{1}_{2}'.format(x, start, end), 'overall_mean_ICC'] = icc.loc[4, 'ICC']\n",
    "    \n",
    "    start = start + overlap\n",
    "    end = start + window_size\n",
    "\n",
    "wind_icc_df.to_csv('iccs_windows_ahkj_subjectivechar.csv')\n",
    "wind_icc_df[wind_icc_df['instance_level_ICC']<=0] = np.nan\n",
    "wind_icc_df_min = wind_icc_df.groupby('variable').min().to_csv('iccs_windows_ahkj_subjectivechar_min.csv')\n",
    "wind_icc_df_max = wind_icc_df.groupby('variable').max().to_csv('iccs_windows_ahkj_subjectivechar_max.csv')"
   ]
  },
  {
   "cell_type": "markdown",
   "metadata": {},
   "source": [
    "### 5. Average codes across raters and plot"
   ]
  },
  {
   "cell_type": "code",
   "execution_count": null,
   "metadata": {
    "pycharm": {
     "name": "#%%\n"
    }
   },
   "outputs": [],
   "source": [
    "import seaborn as sns\n",
    "import matplotlib.pyplot as plt\n",
    "\n",
    "sns.set(context='talk', style='white')\n",
    "\n",
    "data_mean = data.groupby('onset_seconds').mean()\n",
    "data_mean.drop('time', axis=1, inplace=True)\n",
    "data_mean.to_csv('AHKJ_subjective_ratings_Julien.csv')\n",
    "\n",
    "data_mean[['on_screen','char_intensity','char_valence_negative', 'char_valence_positive','c_fear_body',\n",
    "              'c_fear_face', 'c_fear_verbal']].plot(subplots=True, figsize=(12,12), xlim=(0,data.index[-1]))\n",
    "plt.savefig('AHKJ_subjective_all.svg')"
   ]
  }
 ],
 "metadata": {
  "kernelspec": {
   "display_name": "Python 3 (ipykernel)",
   "language": "python",
   "name": "python3"
  },
  "language_info": {
   "codemirror_mode": {
    "name": "ipython",
    "version": 3
   },
   "file_extension": ".py",
   "mimetype": "text/x-python",
   "name": "python",
   "nbconvert_exporter": "python",
   "pygments_lexer": "ipython3",
   "version": "3.8.2"
  }
 },
 "nbformat": 4,
 "nbformat_minor": 4
}
