{
 "cells": [
  {
   "cell_type": "markdown",
   "metadata": {},
   "source": [
    "# EmoCodes Validation\n",
    "This notebook does the following quality checks and processing:\n",
    "1. Checks for sensible onset/offset times and prints errors appropriately.\n",
    "    * Offset must be later than onset (Datavyu also flags these)\n",
    "    * Durations of 0 are not permitted\n",
    "    * Offset cannot be after end of film clip\n",
    "2. Converts the onset/offseft format to a timeseries for each label.\n",
    "3. Resample each time series to 10Hz.\n",
    "4. Save each resampled rating time series as a CSV.\n",
    "5. Generate summary statistics and plots.\n",
    "\n",
    "Soon, we will have a GUI for this process."
   ]
  },
  {
   "cell_type": "code",
   "execution_count": 111,
   "metadata": {},
   "outputs": [],
   "source": [
    "# import needed libraries\n",
    "import pandas as pd\n",
    "import numpy as np\n",
    "import seaborn as sns\n",
    "from datetime import datetime\n",
    "\n",
    "code_file = '/Users/catcamacho/Box/Video Coding Materials/Dori/AHKJS1E2_objective_codes_DB.csv'\n",
    "video_file = '/Users/catcamacho/Box/LCBD/ATV/atv_ratings_orig/AHKJ_S1E2.mp4'\n",
    "codes_df = pd.read_csv(code_file, index_col=None)\n",
    "sampling_rate = 10 #in Hz\n",
    "interpolate_gaps = True"
   ]
  },
  {
   "cell_type": "code",
   "execution_count": 120,
   "metadata": {},
   "outputs": [],
   "source": [
    "# get duration of video in milliseconds\n",
    "def get_video_length(filename):\n",
    "    from moviepy.editor import VideoFileClip\n",
    "    \n",
    "    clip = VideoFileClip(video_file)\n",
    "    file_duration = int(clip.duration*1000)\n",
    "    return(file_duration)\n",
    "\n",
    "# extract the unique code names (assumes Datavyu CSV export format)\n",
    "def get_code_labels(codes_dataframe):\n",
    "    labels = pd.Series(codes_dataframe.columns).str.split(pat='.', expand=True)\n",
    "    labels = list(labels[0].unique())\n",
    "    for x in labels:\n",
    "        if 'Unnamed' in x:\n",
    "            labels.remove(x)\n",
    "    return(labels)\n",
    "    \n",
    "# validate and convert onset/offset times to a timeseries\n",
    "def validate_convert_timestamps(labels,codes_df, video_duration, sampling_rate):\n",
    "    \n",
    "    #set up dataframe object to store data\n",
    "    timeseries_df = pd.DataFrame(columns=labels, index=range(0,video_duration,int(1000/sampling_rate)))\n",
    "    timeseries_df.index.name='time'\n",
    "\n",
    "    for label in labels:\n",
    "        label_df = codes_df[[label+'.onset',label+'.offset',label+'.code01']].dropna(axis=0,how='any')\n",
    "\n",
    "        # check if offsets precede onsets\n",
    "        dur = label_df[label+'.offset'] - label_df[label+'.onset']\n",
    "        for d in dur:\n",
    "            if d<=0:\n",
    "                raise ValueError(\"ERROR: code '{0}' has an offset time that is before the corresponding onset time.\".format(label))\n",
    "\n",
    "        # check that the offset for the last code is not after the end of the episode\n",
    "        if label_df.loc[label_df.index[-1],label+'.offset'] > video_duration:\n",
    "            print(\"Warning: The last offset for code '{0}' is after the end of the video. Changing to match video length.\".format(label))\n",
    "            label_df.loc[label_df.index[-1],label+'.offset'] = video_duration\n",
    "\n",
    "        # add codes to the timeseries dataframe\n",
    "        for x in label_df.index:\n",
    "            onset = int(label_df.loc[x,label+'.onset'])\n",
    "            offset = int(label_df.loc[x,label+'.offset'])\n",
    "            timeseries_df.loc[onset:offset,label] = label_df.loc[x,label+'.code01']\n",
    "\n",
    "        # check for gaps in the codes and interpolate if interp flag is set to True\n",
    "        timeseries_df[label]=pd.to_numeric(timeseries_df[label],errors='ignore')\n",
    "        nans = timeseries_df[label].isna()\n",
    "        missing = sum(nans)*sampling_rate\n",
    "\n",
    "        if missing > 0:\n",
    "            if interpolate_gaps==True and (timeseries_df[label].dtype==float or timeseries_df[label].dtype==int):\n",
    "                print(\"Warning: there are {0}ms of interpolated codes for '{1}'\".format(missing,label))\n",
    "            else:\n",
    "                print(\"Warning: there are {0}ms of missing codes for '{1}'\".format(missing,label))\n",
    "\n",
    "    # interpolate gaps in codes if 'interpolate_gaps' is set to True\n",
    "    if interpolate_gaps==True:\n",
    "        timeseries_df=timeseries_df.interpolate(method='nearest',axis=0)\n",
    "\n",
    "    # get the date and time right now\n",
    "    today = datetime.now()\n",
    "    \n",
    "    # save the series as a csv\n",
    "    timeseries_df.to_csv('codes_timeseries_{0}.csv'.format(today.strftime('%Y%m%d-%H%M%S')),na_rep='NA')\n",
    "    \n",
    "    return(timeseries_df)\n",
    "    "
   ]
  },
  {
   "cell_type": "code",
   "execution_count": 121,
   "metadata": {},
   "outputs": [
    {
     "name": "stdout",
     "output_type": "stream",
     "text": [
      "Warning: The last offset for code 'closeup' is after the end of the video. Changing to match video length.\n",
      "Warning: there are 1240ms of interpolated codes for 'closeup'\n",
      "Warning: The last offset for code 'collective' is after the end of the video. Changing to match video length.\n",
      "Warning: there are 150ms of interpolated codes for 'collective'\n",
      "Warning: The last offset for code 'has_body' is after the end of the video. Changing to match video length.\n",
      "Warning: The last offset for code 'has_faces' is after the end of the video. Changing to match video length.\n",
      "Warning: there are 80ms of interpolated codes for 'has_faces'\n",
      "Warning: The last offset for code 'has_words' is after the end of the video. Changing to match video length.\n",
      "Warning: The last offset for code 'interacting_nonverbal' is after the end of the video. Changing to match video length.\n",
      "Warning: The last offset for code 'interacting_verbal' is after the end of the video. Changing to match video length.\n",
      "Warning: The last offset for code 'num_chars' is after the end of the video. Changing to match video length.\n",
      "Warning: there are 1320ms of interpolated codes for 'num_chars'\n",
      "Warning: The last offset for code 'phys_pain_object' is after the end of the video. Changing to match video length.\n",
      "Warning: The last offset for code 'phys_pain_other' is after the end of the video. Changing to match video length.\n",
      "Warning: The last offset for code 'scenenum' is after the end of the video. Changing to match video length.\n",
      "Warning: The last offset for code 'setting' is after the end of the video. Changing to match video length.\n",
      "Warning: The last offset for code 'time_of_day' is after the end of the video. Changing to match video length.\n"
     ]
    }
   ],
   "source": [
    "video_duration = get_video_length(video_file)\n",
    "labels = get_code_labels(codes_df)\n",
    "t = validate_convert_timestamps(labels,codes_df, video_duration, sampling_rate)"
   ]
  },
  {
   "cell_type": "code",
   "execution_count": 1,
   "metadata": {},
   "outputs": [
    {
     "data": {
      "text/plain": [
       "0"
      ]
     },
     "execution_count": 1,
     "metadata": {},
     "output_type": "execute_result"
    }
   ],
   "source": [
    "from PyQt5.QtWidgets import QApplication, QLabel\n",
    "app = QApplication([])\n",
    "label = QLabel('')\n",
    "label.show()\n",
    "app.exec_()"
   ]
  }
 ],
 "metadata": {
  "kernelspec": {
   "display_name": "Python 3",
   "language": "python",
   "name": "python3"
  },
  "language_info": {
   "codemirror_mode": {
    "name": "ipython",
    "version": 3
   },
   "file_extension": ".py",
   "mimetype": "text/x-python",
   "name": "python",
   "nbconvert_exporter": "python",
   "pygments_lexer": "ipython3",
   "version": "3.7.2"
  }
 },
 "nbformat": 4,
 "nbformat_minor": 2
}
